{
 "cells": [
  {
   "cell_type": "markdown",
   "metadata": {},
   "source": [
    "### Kernel RBF\n",
    "- Para cada divisão de treino/teste obtida pela técnica de validação cruzada k-fold com 5 divisões (k=5):\n",
    "    - Treinar o modelo utilizando o kernel RBF\n",
    "    - Executar os testes.\n",
    "- Criar a matriz de confusão com os resultados acumulados (soma de todas as matrizes de confusão geradas a cada divisão treino/teste)\n",
    "- Calcular a precisão (precision) e a revocação (recall) a partir da matriz de confusão gerada.\n",
    "\n",
    "\n",
    "**As divisões (folds) geradas a partir da validação cruzada devem ser as mesmas em todos\n",
    "os cenários, ou seja, você fará a divisão apenas uma vez..**\n"
   ]
  }
 ],
 "metadata": {
  "kernelspec": {
   "display_name": "Python 3",
   "language": "python",
   "name": "python3"
  },
  "language_info": {
   "codemirror_mode": {
    "name": "ipython",
    "version": 3
   },
   "file_extension": ".py",
   "mimetype": "text/x-python",
   "name": "python",
   "nbconvert_exporter": "python",
   "pygments_lexer": "ipython3",
   "version": "3.8.2"
  }
 },
 "nbformat": 4,
 "nbformat_minor": 4
}
